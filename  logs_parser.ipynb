{
 "cells": [
  {
   "cell_type": "code",
   "execution_count": 140,
   "metadata": {},
   "outputs": [],
   "source": [
    "import re # utiliser pour la definition des patterns\n",
    "import sys"
   ]
  },
  {
   "cell_type": "code",
   "execution_count": 138,
   "metadata": {},
   "outputs": [],
   "source": [
    "try:\n",
    "    import pandas\n",
    "except ImportError:\n",
    "        input(\"Cannot load module pandas. Press enter to install the package pandas or Ctrl+c to quit the program\")\n",
    "        os.system(\"pip3 install --user pandas\")\n",
    "        import pandas as pd # Librairie de manipulation de données\n"
   ]
  },
  {
   "cell_type": "code",
   "execution_count": null,
   "metadata": {},
   "outputs": [],
   "source": []
  },
  {
   "cell_type": "code",
   "execution_count": null,
   "metadata": {},
   "outputs": [],
   "source": []
  },
  {
   "cell_type": "code",
   "execution_count": 135,
   "metadata": {},
   "outputs": [],
   "source": [
    "def get_and_preprocess_data(fileName):\n",
    "    # On charge les données du fichier dans un data frame en prenant le soin de mettre le paramettre 'header' à None\n",
    "    # header=None nous permet d'évité que la première ligne soit considérer comme les noms de colonnes\n",
    "    df = pd.read_csv(fileName, delimiter=\"\\t\", header=None)\n",
    "    \n",
    "    print(\"============ Nombre de lignes avant suppression des url non tuile ====== ----> \", str(len(df)))\n",
    "    \n",
    "    # on affecte un nom à chacune de nos colonnes\n",
    "    columnsName = ['datetime', 'viewmode']\n",
    "    df.columns = columnsName\n",
    "    \n",
    "    # On ne retient que les données avec dea urls correspondent  à une tuile\n",
    "    df = df[df['viewmode'].str.contains(\"/map/1.0/slab/\", na=False)].reset_index(drop=True)\n",
    "    \n",
    "    print(\"============ Nombre de lignes après suppression des url non tuile ====== ----> \", str(len(df)))\n",
    "    \n",
    "    return df"
   ]
  },
  {
   "cell_type": "code",
   "execution_count": 136,
   "metadata": {},
   "outputs": [
    {
     "name": "stdout",
     "output_type": "stream",
     "text": [
      "============ Nombre de lignes avant suppression des url non tuile ====== ---->  10000\n",
      "============ Nombre de lignes après suppression des url non tuile ====== ---->  6564\n"
     ]
    }
   ],
   "source": [
    "data = get_and_preprocess_data(\"tornik-map-20171006.10000.tsv\")"
   ]
  },
  {
   "cell_type": "code",
   "execution_count": null,
   "metadata": {},
   "outputs": [],
   "source": []
  },
  {
   "cell_type": "code",
   "execution_count": 133,
   "metadata": {},
   "outputs": [],
   "source": [
    "def get_list_of_unique_viewmode(dataFrame):\n",
    "    \n",
    "    # On crée un pattern qui nous va nous permttre d'aller recupérer les viewmode\n",
    "    pattern = \"slab/(.*?)/\"\n",
    "    # On crée un set pour y stocker les viewmode de façon unique\n",
    "    list_viewmode = set()\n",
    "    \n",
    "    for index in range(len(dataFrame)):\n",
    "        list_viewmode.add(re.search(pattern, dataFrame['viewmode'][index]).group(1))\n",
    "    \n",
    "    list_viewmode = list(list_viewmode)\n",
    "    print('======= Liste des viewmode =========')\n",
    "    print(list_viewmode)\n",
    "    \n",
    "    return list_viewmode"
   ]
  },
  {
   "cell_type": "code",
   "execution_count": 134,
   "metadata": {},
   "outputs": [
    {
     "name": "stdout",
     "output_type": "stream",
     "text": [
      "======= Liste des viewmode =========\n",
      "['traffic', 'standard', 'public_transport_hd', 'photo', 'standard_hd', 'traffic_hd', 'hybrid']\n"
     ]
    }
   ],
   "source": [
    "list_viewmode = get_list_of_unique_viewmode(data)"
   ]
  },
  {
   "cell_type": "code",
   "execution_count": null,
   "metadata": {},
   "outputs": [],
   "source": []
  },
  {
   "cell_type": "code",
   "execution_count": 142,
   "metadata": {},
   "outputs": [],
   "source": [
    "def zoom_level_of_each_viewmode(dataFrame, list_viewmode):\n",
    "    # On crée un pattern qui nous va nous permttre d'aller les viewmode\n",
    "    pattern = \"/256/(.*?)/\"\n",
    "    list_zoom_level = list()\n",
    "    temp_dct = {\"viewmode\":[],\"occurence\":[], 'Niveau de zoom':[]}\n",
    "    \n",
    "    for view_m in list_viewmode:\n",
    "        temp_dataFrame = dataFrame[dataFrame['viewmode'].str.contains(str(view_m), na=False)\n",
    "                                  ].reset_index(drop=True)\n",
    "        occur = len(temp_dataFrame)\n",
    "        for index in range(len(temp_dataFrame)):\n",
    "            list_zoom_level.append(re.search(pattern, temp_dataFrame['viewmode'][index]).group(1))\n",
    "        temp_dct['viewmode'].append(view_m)\n",
    "        temp_dct['occurence'].append(occur)\n",
    "        temp_dct['Niveau de zoom'].append(','.join(map(str, set(list_zoom_level))))\n",
    "        \n",
    "        # On renitialise la liste à chaque boucle\n",
    "        list_zoom_level = []\n",
    "    df_viewmode_occu = pd.DataFrame.from_dict(temp_dct)\n",
    "\n",
    "    return df_viewmode_occu"
   ]
  },
  {
   "cell_type": "code",
   "execution_count": 143,
   "metadata": {},
   "outputs": [],
   "source": [
    "df_viewmode_occu = zoom_level_of_each_viewmode(data, list_viewmode)"
   ]
  },
  {
   "cell_type": "code",
   "execution_count": 146,
   "metadata": {},
   "outputs": [
    {
     "name": "stdout",
     "output_type": "stream",
     "text": [
      "            viewmode  occurence                               Niveau de zoom\n",
      "             traffic       1030  14,15,13,19,11,0,12,8,16,18,5,6,7,1,9,10,17\n",
      "            standard       4110    3,14,15,13,19,11,12,16,8,18,5,6,7,9,10,17\n",
      " public_transport_hd        114                         14,15,13,12,16,18,17\n",
      "               photo       1229    14,15,13,19,11,4,12,16,8,18,5,6,7,9,10,17\n",
      "         standard_hd       2426      14,15,13,19,11,12,16,8,18,5,6,7,9,10,17\n",
      "          traffic_hd        828  14,15,13,19,11,0,12,8,16,18,5,6,7,1,9,10,17\n",
      "              hybrid         81                         14,15,19,8,16,7,9,17\n"
     ]
    }
   ],
   "source": [
    "print(df_viewmode_occu.to_string(index=False))"
   ]
  },
  {
   "cell_type": "code",
   "execution_count": null,
   "metadata": {},
   "outputs": [],
   "source": []
  }
 ],
 "metadata": {
  "kernelspec": {
   "display_name": "Python 3",
   "language": "python",
   "name": "python3"
  },
  "language_info": {
   "codemirror_mode": {
    "name": "ipython",
    "version": 3
   },
   "file_extension": ".py",
   "mimetype": "text/x-python",
   "name": "python",
   "nbconvert_exporter": "python",
   "pygments_lexer": "ipython3",
   "version": "3.7.4"
  }
 },
 "nbformat": 4,
 "nbformat_minor": 2
}
